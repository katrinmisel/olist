{
 "cells": [
  {
   "cell_type": "markdown",
   "metadata": {},
   "source": [
    "# Olist : E-commerce Customer Segmentation\n",
    "## Notebook 3/3: Temporal stability of our model\n",
    "\n",
    "<b>Notebook description</b> \n",
    "\n",
    "In order to confirm that the model stays stable over a certain period of time, we will use the adjusted rand score to measure the point at which our customers' clusters have changed too much. We will train our model on the 2017 data and test the stability on the 2018 data, month by month and then week by week in order to find the precise moment at which our model falls below a certain value."
   ]
  },
  {
   "cell_type": "code",
   "execution_count": 1,
   "metadata": {},
   "outputs": [],
   "source": [
    "import pandas as pd\n",
    "import numpy as np\n",
    "import datetime\n",
    "import seaborn as sns\n",
    "\n",
    "from sklearn.preprocessing import MinMaxScaler\n",
    "from sklearn.preprocessing import StandardScaler\n",
    "from sklearn.compose import ColumnTransformer\n",
    "from sklearn.preprocessing import PowerTransformer\n",
    "\n",
    "from sklearn.pipeline import Pipeline\n",
    "\n",
    "from sklearn.cluster import KMeans\n",
    "from sklearn.metrics.cluster import adjusted_rand_score\n",
    "\n",
    "# Suppress warnings\n",
    "import warnings\n",
    "\n",
    "warnings.filterwarnings(\"ignore\")"
   ]
  },
  {
   "cell_type": "code",
   "execution_count": 2,
   "metadata": {},
   "outputs": [],
   "source": [
    "df = pd.read_csv(\"data_rfm.csv\")"
   ]
  },
  {
   "cell_type": "code",
   "execution_count": 3,
   "metadata": {},
   "outputs": [
    {
     "data": {
      "text/html": [
       "<div>\n",
       "<style scoped>\n",
       "    .dataframe tbody tr th:only-of-type {\n",
       "        vertical-align: middle;\n",
       "    }\n",
       "\n",
       "    .dataframe tbody tr th {\n",
       "        vertical-align: top;\n",
       "    }\n",
       "\n",
       "    .dataframe thead th {\n",
       "        text-align: right;\n",
       "    }\n",
       "</style>\n",
       "<table border=\"1\" class=\"dataframe\">\n",
       "  <thead>\n",
       "    <tr style=\"text-align: right;\">\n",
       "      <th></th>\n",
       "      <th>order_purchase_timestamp</th>\n",
       "      <th>recency</th>\n",
       "      <th>frequency</th>\n",
       "      <th>monetary</th>\n",
       "      <th>installments</th>\n",
       "      <th>review</th>\n",
       "      <th>month</th>\n",
       "    </tr>\n",
       "  </thead>\n",
       "  <tbody>\n",
       "    <tr>\n",
       "      <th>0</th>\n",
       "      <td>2018-05-10 10:56:27</td>\n",
       "      <td>111</td>\n",
       "      <td>1</td>\n",
       "      <td>141.90</td>\n",
       "      <td>8.0</td>\n",
       "      <td>5.0</td>\n",
       "      <td>5.0</td>\n",
       "    </tr>\n",
       "    <tr>\n",
       "      <th>1</th>\n",
       "      <td>2018-05-07 11:11:27</td>\n",
       "      <td>114</td>\n",
       "      <td>1</td>\n",
       "      <td>27.19</td>\n",
       "      <td>1.0</td>\n",
       "      <td>4.0</td>\n",
       "      <td>5.0</td>\n",
       "    </tr>\n",
       "    <tr>\n",
       "      <th>2</th>\n",
       "      <td>2017-03-10 21:05:03</td>\n",
       "      <td>536</td>\n",
       "      <td>1</td>\n",
       "      <td>86.22</td>\n",
       "      <td>8.0</td>\n",
       "      <td>3.0</td>\n",
       "      <td>3.0</td>\n",
       "    </tr>\n",
       "    <tr>\n",
       "      <th>3</th>\n",
       "      <td>2017-10-12 20:29:41</td>\n",
       "      <td>320</td>\n",
       "      <td>1</td>\n",
       "      <td>43.62</td>\n",
       "      <td>4.0</td>\n",
       "      <td>4.0</td>\n",
       "      <td>10.0</td>\n",
       "    </tr>\n",
       "    <tr>\n",
       "      <th>4</th>\n",
       "      <td>2017-11-14 19:45:42</td>\n",
       "      <td>287</td>\n",
       "      <td>1</td>\n",
       "      <td>196.89</td>\n",
       "      <td>6.0</td>\n",
       "      <td>5.0</td>\n",
       "      <td>11.0</td>\n",
       "    </tr>\n",
       "  </tbody>\n",
       "</table>\n",
       "</div>"
      ],
      "text/plain": [
       "  order_purchase_timestamp  recency  frequency  monetary  installments  \\\n",
       "0      2018-05-10 10:56:27      111          1    141.90           8.0   \n",
       "1      2018-05-07 11:11:27      114          1     27.19           1.0   \n",
       "2      2017-03-10 21:05:03      536          1     86.22           8.0   \n",
       "3      2017-10-12 20:29:41      320          1     43.62           4.0   \n",
       "4      2017-11-14 19:45:42      287          1    196.89           6.0   \n",
       "\n",
       "   review  month  \n",
       "0     5.0    5.0  \n",
       "1     4.0    5.0  \n",
       "2     3.0    3.0  \n",
       "3     4.0   10.0  \n",
       "4     5.0   11.0  "
      ]
     },
     "execution_count": 3,
     "metadata": {},
     "output_type": "execute_result"
    }
   ],
   "source": [
    "df = df[\n",
    "    [\n",
    "        \"order_purchase_timestamp\",\n",
    "        \"recency\",\n",
    "        \"frequency\",\n",
    "        \"monetary\",\n",
    "        \"installments\",\n",
    "        \"review\",\n",
    "        \"month\",\n",
    "    ]\n",
    "]\n",
    "df.head(5)"
   ]
  },
  {
   "cell_type": "code",
   "execution_count": 4,
   "metadata": {},
   "outputs": [
    {
     "name": "stdout",
     "output_type": "stream",
     "text": [
      "We have data spanning over 22.834225 months.\n"
     ]
    }
   ],
   "source": [
    "max_date = pd.to_datetime(df[\"order_purchase_timestamp\"].max())\n",
    "min_date = pd.to_datetime(df[\"order_purchase_timestamp\"].min())\n",
    "timespan = (max_date - min_date).days * 0.032855\n",
    "\n",
    "print(\"We have data spanning over \" + str(timespan) + \" months.\")"
   ]
  },
  {
   "cell_type": "code",
   "execution_count": 5,
   "metadata": {},
   "outputs": [
    {
     "data": {
      "text/plain": [
       "<AxesSubplot:xlabel='year_month'>"
      ]
     },
     "execution_count": 5,
     "metadata": {},
     "output_type": "execute_result"
    },
    {
     "data": {
      "image/png": "[encoded data removed]",
      "text/plain": [
       "<Figure size 640x480 with 1 Axes>"
      ]
     },
     "metadata": {},
     "output_type": "display_data"
    }
   ],
   "source": [
    "# convert column to datetime\n",
    "df[\"order_purchase_timestamp\"] = pd.to_datetime(df[\"order_purchase_timestamp\"])\n",
    "\n",
    "# create a representation of the month with strfmt\n",
    "df[\"year_month\"] = df[\"order_purchase_timestamp\"].map(lambda dt: dt.strftime(\"%Y-%m\"))\n",
    "\n",
    "grouped_df = df.groupby(\"year_month\").size().to_frame(\"count\").reset_index()\n",
    "\n",
    "grouped_df.plot(kind=\"bar\", x=\"year_month\", y=\"count\")"
   ]
  },
  {
   "cell_type": "markdown",
   "metadata": {},
   "source": [
    "We will train our model on the data from 2017 and check the temporal stability of our model first over the months of 2018 and then over the weeks."
   ]
  },
  {
   "cell_type": "code",
   "execution_count": 6,
   "metadata": {},
   "outputs": [],
   "source": [
    "df[\"week\"] = df.order_purchase_timestamp.apply(lambda x: x.weekofyear)\n",
    "df[\"year\"] = df.order_purchase_timestamp.apply(lambda x: x.year)\n",
    "df.drop(columns=[\"order_purchase_timestamp\"], inplace=True)\n",
    "\n",
    "df_2018 = df[df.year == 2018].drop(\n",
    "    columns=[\"year\", \"year_month\"]\n",
    ")  # data only from 2018"
   ]
  },
  {
   "cell_type": "markdown",
   "metadata": {},
   "source": [
    "### Temporal stability over the months"
   ]
  },
  {
   "cell_type": "code",
   "execution_count": 7,
   "metadata": {},
   "outputs": [],
   "source": [
    "df_2018 = df[df.year == 2018].drop(\n",
    "    columns=[\"year\", \"year_month\", \"week\"]\n",
    ")  # data only from 2018"
   ]
  },
  {
   "cell_type": "code",
   "execution_count": 18,
   "metadata": {},
   "outputs": [],
   "source": [
    "def create_ari_array_months(future_dataframe):\n",
    "\n",
    "    df_2017 = df[df.year == 2017].drop(\n",
    "        columns=[\"year\", \"year_month\", \"week\"]\n",
    "    )  # data only from 2017\n",
    "\n",
    "    df_2017[\"frequency\"] = np.log10(df_2017[\"frequency\"])\n",
    "    df_2017[\"monetary\"] = np.log10(df_2017[\"monetary\"])\n",
    "    df_2017_scaler = StandardScaler().fit(df_2017)\n",
    "    df_2017_scaled = pd.DataFrame(\n",
    "        df_2017_scaler.transform(df_2017), columns=df_2017.columns\n",
    "    )\n",
    "\n",
    "    init_model = KMeans(n_clusters=5, random_state=42)\n",
    "    init_model.fit(df_2017_scaled)\n",
    "\n",
    "    ari_array = []\n",
    "    month = []\n",
    "    months_in_df = future_dataframe.month.max().astype(int)\n",
    "\n",
    "    for i in range(1, months_in_df):\n",
    "\n",
    "        df_current_month = future_dataframe[future_dataframe[\"month\"] <= i]\n",
    "        df_current_month[\"frequency\"] = np.log10(df_current_month[\"frequency\"])\n",
    "        df_current_month[\"monetary\"] = np.log10(df_current_month[\"monetary\"])\n",
    "\n",
    "        df_current_month_scaler = StandardScaler().fit(df_current_month)\n",
    "        df_current_month_scaled = pd.DataFrame(\n",
    "            df_current_month_scaler.transform(df_current_month),\n",
    "            columns=df_current_month.columns,\n",
    "        )\n",
    "\n",
    "        model_today = KMeans(n_clusters=5)\n",
    "        clusters_today = model_today.fit_predict(df_current_month_scaled)\n",
    "\n",
    "        clusters_today_scaler_2017 = pd.DataFrame(\n",
    "            df_2017_scaler.transform(df_current_month), columns=df_current_month.columns\n",
    "        )\n",
    "        clusters_today_scaler_2017_pred = init_model.predict(clusters_today_scaler_2017)\n",
    "\n",
    "        ari = adjusted_rand_score(clusters_today_scaler_2017_pred, clusters_today)\n",
    "        ari_array.append(ari)\n",
    "        month.append(i)\n",
    "\n",
    "    ari_df = pd.DataFrame({\"month\": month, \"ARI\": ari_array})\n",
    "\n",
    "    return ari_df"
   ]
  },
  {
   "cell_type": "code",
   "execution_count": 19,
   "metadata": {},
   "outputs": [
    {
     "data": {
      "text/html": [
       "<div>\n",
       "<style scoped>\n",
       "    .dataframe tbody tr th:only-of-type {\n",
       "        vertical-align: middle;\n",
       "    }\n",
       "\n",
       "    .dataframe tbody tr th {\n",
       "        vertical-align: top;\n",
       "    }\n",
       "\n",
       "    .dataframe thead th {\n",
       "        text-align: right;\n",
       "    }\n",
       "</style>\n",
       "<table border=\"1\" class=\"dataframe\">\n",
       "  <thead>\n",
       "    <tr style=\"text-align: right;\">\n",
       "      <th></th>\n",
       "      <th>month</th>\n",
       "      <th>ARI</th>\n",
       "    </tr>\n",
       "  </thead>\n",
       "  <tbody>\n",
       "    <tr>\n",
       "      <th>0</th>\n",
       "      <td>1</td>\n",
       "      <td>0.481578</td>\n",
       "    </tr>\n",
       "    <tr>\n",
       "      <th>1</th>\n",
       "      <td>2</td>\n",
       "      <td>0.775614</td>\n",
       "    </tr>\n",
       "    <tr>\n",
       "      <th>2</th>\n",
       "      <td>3</td>\n",
       "      <td>0.793945</td>\n",
       "    </tr>\n",
       "    <tr>\n",
       "      <th>3</th>\n",
       "      <td>4</td>\n",
       "      <td>0.532816</td>\n",
       "    </tr>\n",
       "    <tr>\n",
       "      <th>4</th>\n",
       "      <td>5</td>\n",
       "      <td>0.550655</td>\n",
       "    </tr>\n",
       "    <tr>\n",
       "      <th>5</th>\n",
       "      <td>6</td>\n",
       "      <td>0.499465</td>\n",
       "    </tr>\n",
       "    <tr>\n",
       "      <th>6</th>\n",
       "      <td>7</td>\n",
       "      <td>0.525058</td>\n",
       "    </tr>\n",
       "    <tr>\n",
       "      <th>7</th>\n",
       "      <td>8</td>\n",
       "      <td>0.438124</td>\n",
       "    </tr>\n",
       "    <tr>\n",
       "      <th>8</th>\n",
       "      <td>9</td>\n",
       "      <td>0.437925</td>\n",
       "    </tr>\n",
       "    <tr>\n",
       "      <th>9</th>\n",
       "      <td>10</td>\n",
       "      <td>0.438172</td>\n",
       "    </tr>\n",
       "  </tbody>\n",
       "</table>\n",
       "</div>"
      ],
      "text/plain": [
       "   month       ARI\n",
       "0      1  0.481578\n",
       "1      2  0.775614\n",
       "2      3  0.793945\n",
       "3      4  0.532816\n",
       "4      5  0.550655\n",
       "5      6  0.499465\n",
       "6      7  0.525058\n",
       "7      8  0.438124\n",
       "8      9  0.437925\n",
       "9     10  0.438172"
      ]
     },
     "execution_count": 19,
     "metadata": {},
     "output_type": "execute_result"
    }
   ],
   "source": [
    "ari_df_months = create_ari_array_months(df_2018)\n",
    "ari_df_months"
   ]
  },
  {
   "cell_type": "code",
   "execution_count": 20,
   "metadata": {},
   "outputs": [
    {
     "data": {
      "text/plain": [
       "Text(0.5, 1.0, 'ARI score evolution, interval = 1 month')"
      ]
     },
     "execution_count": 20,
     "metadata": {},
     "output_type": "execute_result"
    },
    {
     "data": {
      "image/png": "[encoded data removed]",
      "text/plain": [
       "<Figure size 640x480 with 1 Axes>"
      ]
     },
     "metadata": {},
     "output_type": "display_data"
    }
   ],
   "source": [
    "ari_plot = sns.lineplot(data=ari_df_months, x=\"month\", y=\"ARI\")\n",
    "ari_plot.set_ylim(bottom=0, top=1)\n",
    "ari_plot.set_title(\"ARI score evolution, interval = 1 month\")"
   ]
  },
  {
   "cell_type": "markdown",
   "metadata": {},
   "source": [
    "We can see that at approximately 3 months, there is an abrupt fall in the ARI score. This means that the model would need to be retrained at around 3 months in order to avoid false predictions and an inaccurate customer clustering.  \n",
    "\n",
    "Let's see if we can determine the precise moment when this happens using our function iterated over weeks rather than months."
   ]
  },
  {
   "cell_type": "markdown",
   "metadata": {},
   "source": [
    "### Temporal stability over the weeks"
   ]
  },
  {
   "cell_type": "code",
   "execution_count": 11,
   "metadata": {},
   "outputs": [],
   "source": [
    "df_2018_week = df[df.year == 2018].drop(\n",
    "    columns=[\"year\", \"year_month\"]\n",
    ")  # data only from 2018"
   ]
  },
  {
   "cell_type": "code",
   "execution_count": 12,
   "metadata": {},
   "outputs": [],
   "source": [
    "def create_ari_array_weeks(future_dataframe):\n",
    "\n",
    "    df_2017 = df[df.year == 2017].drop(\n",
    "        columns=[\"year\", \"year_month\", \"week\"]\n",
    "    )  # data only from 2017\n",
    "\n",
    "    df_2017[\"frequency\"] = np.log10(df_2017[\"frequency\"])\n",
    "    df_2017[\"monetary\"] = np.log10(df_2017[\"monetary\"])\n",
    "    df_2017_scaler = StandardScaler().fit(df_2017)\n",
    "    df_2017_scaled = pd.DataFrame(\n",
    "        df_2017_scaler.transform(df_2017), columns=df_2017.columns\n",
    "    )\n",
    "\n",
    "    init_model = KMeans(n_clusters=5, random_state=42)\n",
    "    init_model.fit(df_2017_scaled)\n",
    "\n",
    "    ari_array = []\n",
    "    week = []\n",
    "    weeks_in_df = future_dataframe.week.max().astype(int)\n",
    "\n",
    "    for i in range(1, weeks_in_df):\n",
    "\n",
    "        df_current_week = future_dataframe[future_dataframe[\"week\"] <= i]\n",
    "        df_current_week.drop(columns=[\"week\"], inplace=True)\n",
    "\n",
    "        df_current_week[\"frequency\"] = np.log10(df_current_week[\"frequency\"])\n",
    "        df_current_week[\"monetary\"] = np.log10(df_current_week[\"monetary\"])\n",
    "\n",
    "        df_current_week_scaler = StandardScaler().fit(df_current_week)\n",
    "        df_current_week_scaled = pd.DataFrame(\n",
    "            df_current_week_scaler.transform(df_current_week),\n",
    "            columns=df_current_week.columns,\n",
    "        )\n",
    "\n",
    "        model_today = KMeans(n_clusters=5)\n",
    "        clusters_today = model_today.fit_predict(df_current_week_scaled)\n",
    "\n",
    "        clusters_today_scaler_2017 = pd.DataFrame(\n",
    "            df_2017_scaler.transform(df_current_week), columns=df_current_week.columns\n",
    "        )\n",
    "        clusters_today_scaler_2017_pred = init_model.predict(clusters_today_scaler_2017)\n",
    "\n",
    "        ari = adjusted_rand_score(clusters_today_scaler_2017_pred, clusters_today)\n",
    "        ari_array.append(ari)\n",
    "        week.append(i)\n",
    "\n",
    "    ari_df = pd.DataFrame({\"week\": week, \"ARI\": ari_array})\n",
    "\n",
    "    return ari_df"
   ]
  },
  {
   "cell_type": "code",
   "execution_count": 13,
   "metadata": {},
   "outputs": [
    {
     "data": {
      "text/html": [
       "<div>\n",
       "<style scoped>\n",
       "    .dataframe tbody tr th:only-of-type {\n",
       "        vertical-align: middle;\n",
       "    }\n",
       "\n",
       "    .dataframe tbody tr th {\n",
       "        vertical-align: top;\n",
       "    }\n",
       "\n",
       "    .dataframe thead th {\n",
       "        text-align: right;\n",
       "    }\n",
       "</style>\n",
       "<table border=\"1\" class=\"dataframe\">\n",
       "  <thead>\n",
       "    <tr style=\"text-align: right;\">\n",
       "      <th></th>\n",
       "      <th>week</th>\n",
       "      <th>ARI</th>\n",
       "    </tr>\n",
       "  </thead>\n",
       "  <tbody>\n",
       "    <tr>\n",
       "      <th>0</th>\n",
       "      <td>1</td>\n",
       "      <td>0.738616</td>\n",
       "    </tr>\n",
       "    <tr>\n",
       "      <th>1</th>\n",
       "      <td>2</td>\n",
       "      <td>0.762719</td>\n",
       "    </tr>\n",
       "    <tr>\n",
       "      <th>2</th>\n",
       "      <td>3</td>\n",
       "      <td>0.782074</td>\n",
       "    </tr>\n",
       "    <tr>\n",
       "      <th>3</th>\n",
       "      <td>4</td>\n",
       "      <td>0.790059</td>\n",
       "    </tr>\n",
       "    <tr>\n",
       "      <th>4</th>\n",
       "      <td>5</td>\n",
       "      <td>0.699201</td>\n",
       "    </tr>\n",
       "    <tr>\n",
       "      <th>5</th>\n",
       "      <td>6</td>\n",
       "      <td>0.602255</td>\n",
       "    </tr>\n",
       "    <tr>\n",
       "      <th>6</th>\n",
       "      <td>7</td>\n",
       "      <td>0.557990</td>\n",
       "    </tr>\n",
       "    <tr>\n",
       "      <th>7</th>\n",
       "      <td>8</td>\n",
       "      <td>0.771625</td>\n",
       "    </tr>\n",
       "    <tr>\n",
       "      <th>8</th>\n",
       "      <td>9</td>\n",
       "      <td>0.766095</td>\n",
       "    </tr>\n",
       "    <tr>\n",
       "      <th>9</th>\n",
       "      <td>10</td>\n",
       "      <td>0.768901</td>\n",
       "    </tr>\n",
       "    <tr>\n",
       "      <th>10</th>\n",
       "      <td>11</td>\n",
       "      <td>0.768762</td>\n",
       "    </tr>\n",
       "    <tr>\n",
       "      <th>11</th>\n",
       "      <td>12</td>\n",
       "      <td>0.788142</td>\n",
       "    </tr>\n",
       "    <tr>\n",
       "      <th>12</th>\n",
       "      <td>13</td>\n",
       "      <td>0.655346</td>\n",
       "    </tr>\n",
       "    <tr>\n",
       "      <th>13</th>\n",
       "      <td>14</td>\n",
       "      <td>0.476402</td>\n",
       "    </tr>\n",
       "    <tr>\n",
       "      <th>14</th>\n",
       "      <td>15</td>\n",
       "      <td>0.487930</td>\n",
       "    </tr>\n",
       "    <tr>\n",
       "      <th>15</th>\n",
       "      <td>16</td>\n",
       "      <td>0.512729</td>\n",
       "    </tr>\n",
       "    <tr>\n",
       "      <th>16</th>\n",
       "      <td>17</td>\n",
       "      <td>0.536880</td>\n",
       "    </tr>\n",
       "    <tr>\n",
       "      <th>17</th>\n",
       "      <td>18</td>\n",
       "      <td>0.560867</td>\n",
       "    </tr>\n",
       "    <tr>\n",
       "      <th>18</th>\n",
       "      <td>19</td>\n",
       "      <td>0.582462</td>\n",
       "    </tr>\n",
       "    <tr>\n",
       "      <th>19</th>\n",
       "      <td>20</td>\n",
       "      <td>0.598265</td>\n",
       "    </tr>\n",
       "    <tr>\n",
       "      <th>20</th>\n",
       "      <td>21</td>\n",
       "      <td>0.569865</td>\n",
       "    </tr>\n",
       "    <tr>\n",
       "      <th>21</th>\n",
       "      <td>22</td>\n",
       "      <td>0.457967</td>\n",
       "    </tr>\n",
       "    <tr>\n",
       "      <th>22</th>\n",
       "      <td>23</td>\n",
       "      <td>0.461931</td>\n",
       "    </tr>\n",
       "    <tr>\n",
       "      <th>23</th>\n",
       "      <td>24</td>\n",
       "      <td>0.478417</td>\n",
       "    </tr>\n",
       "    <tr>\n",
       "      <th>24</th>\n",
       "      <td>25</td>\n",
       "      <td>0.489820</td>\n",
       "    </tr>\n",
       "    <tr>\n",
       "      <th>25</th>\n",
       "      <td>26</td>\n",
       "      <td>0.499201</td>\n",
       "    </tr>\n",
       "    <tr>\n",
       "      <th>26</th>\n",
       "      <td>27</td>\n",
       "      <td>0.504746</td>\n",
       "    </tr>\n",
       "    <tr>\n",
       "      <th>27</th>\n",
       "      <td>28</td>\n",
       "      <td>0.510130</td>\n",
       "    </tr>\n",
       "    <tr>\n",
       "      <th>28</th>\n",
       "      <td>29</td>\n",
       "      <td>0.513192</td>\n",
       "    </tr>\n",
       "    <tr>\n",
       "      <th>29</th>\n",
       "      <td>30</td>\n",
       "      <td>0.520666</td>\n",
       "    </tr>\n",
       "    <tr>\n",
       "      <th>30</th>\n",
       "      <td>31</td>\n",
       "      <td>0.428615</td>\n",
       "    </tr>\n",
       "    <tr>\n",
       "      <th>31</th>\n",
       "      <td>32</td>\n",
       "      <td>0.435065</td>\n",
       "    </tr>\n",
       "    <tr>\n",
       "      <th>32</th>\n",
       "      <td>33</td>\n",
       "      <td>0.437091</td>\n",
       "    </tr>\n",
       "    <tr>\n",
       "      <th>33</th>\n",
       "      <td>34</td>\n",
       "      <td>0.437362</td>\n",
       "    </tr>\n",
       "  </tbody>\n",
       "</table>\n",
       "</div>"
      ],
      "text/plain": [
       "    week       ARI\n",
       "0      1  0.738616\n",
       "1      2  0.762719\n",
       "2      3  0.782074\n",
       "3      4  0.790059\n",
       "4      5  0.699201\n",
       "5      6  0.602255\n",
       "6      7  0.557990\n",
       "7      8  0.771625\n",
       "8      9  0.766095\n",
       "9     10  0.768901\n",
       "10    11  0.768762\n",
       "11    12  0.788142\n",
       "12    13  0.655346\n",
       "13    14  0.476402\n",
       "14    15  0.487930\n",
       "15    16  0.512729\n",
       "16    17  0.536880\n",
       "17    18  0.560867\n",
       "18    19  0.582462\n",
       "19    20  0.598265\n",
       "20    21  0.569865\n",
       "21    22  0.457967\n",
       "22    23  0.461931\n",
       "23    24  0.478417\n",
       "24    25  0.489820\n",
       "25    26  0.499201\n",
       "26    27  0.504746\n",
       "27    28  0.510130\n",
       "28    29  0.513192\n",
       "29    30  0.520666\n",
       "30    31  0.428615\n",
       "31    32  0.435065\n",
       "32    33  0.437091\n",
       "33    34  0.437362"
      ]
     },
     "execution_count": 13,
     "metadata": {},
     "output_type": "execute_result"
    }
   ],
   "source": [
    "ari_df_weeks = create_ari_array_weeks(df_2018_week)\n",
    "ari_df_weeks"
   ]
  },
  {
   "cell_type": "code",
   "execution_count": 14,
   "metadata": {},
   "outputs": [
    {
     "data": {
      "text/plain": [
       "Text(0.5, 1.0, 'ARI score evolution, interval = 1 week')"
      ]
     },
     "execution_count": 14,
     "metadata": {},
     "output_type": "execute_result"
    },
    {
     "data": {
      "image/png": "[encoded data removed]",
      "text/plain": [
       "<Figure size 640x480 with 1 Axes>"
      ]
     },
     "metadata": {},
     "output_type": "display_data"
    }
   ],
   "source": [
    "ari_plot = sns.lineplot(data=ari_df_weeks, x=\"week\", y=\"ARI\")\n",
    "ari_plot.set_ylim(bottom=0, top=1)\n",
    "ari_plot.set_title(\"ARI score evolution, interval = 1 week\")"
   ]
  },
  {
   "cell_type": "markdown",
   "metadata": {},
   "source": [
    "Using the dataframe resulting from our function and the line plot, we can tell that at 13 months it will be necessary to retrain the model so that the clustering predictions remain accurate. "
   ]
  }
 ],
 "metadata": {
  "kernelspec": {
   "display_name": "Python 3.10.6 ('olist_venv': venv)",
   "language": "python",
   "name": "python3"
  },
  "language_info": {
   "codemirror_mode": {
    "name": "ipython",
    "version": 3
   },
   "file_extension": ".py",
   "mimetype": "text/x-python",
   "name": "python",
   "nbconvert_exporter": "python",
   "pygments_lexer": "ipython3",
   "version": "3.10.7"
  },
  "orig_nbformat": 4,
  "vscode": {
   "interpreter": {
    "hash": "0657e3dc05263e119529a73df1b9c3ef8808d4c03d7ffdda4a948c5414d549c3"
   }
  }
 },
 "nbformat": 4,
 "nbformat_minor": 2
}
